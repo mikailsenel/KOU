{
  "nbformat": 4,
  "nbformat_minor": 0,
  "metadata": {
    "colab": {
      "provenance": [],
      "authorship_tag": "ABX9TyN70IgSk9rNzLSQwGgO/wp7",
      "include_colab_link": true
    },
    "kernelspec": {
      "name": "python3",
      "display_name": "Python 3"
    },
    "language_info": {
      "name": "python"
    }
  },
  "cells": [
    {
      "cell_type": "markdown",
      "metadata": {
        "id": "view-in-github",
        "colab_type": "text"
      },
      "source": [
        "<a href=\"https://colab.research.google.com/github/mikailsenel/Kocaeli-University/blob/main/Ayr%C4%B1k%20Sistemler%20%C4%B0%C3%A7in%20%C4%B0leri%20Olas%C4%B1l%C4%B1k/odev3.ipynb\" target=\"_parent\"><img src=\"https://colab.research.google.com/assets/colab-badge.svg\" alt=\"Open In Colab\"/></a>"
      ]
    },
    {
      "cell_type": "markdown",
      "source": [
        "![image.png](data:image/png;base64,iVBORw0KGgoAAAANSUhEUgAAAfcAAAB5CAYAAAAkuGg7AAAgAElEQVR4nO3dbUwUWb4/8K833hfrZH2jcbcjzUNQIQEny0jI0gRdWUDIQDTeiW2E7Kh3YPcadrgzgI7eBGiT6zoqO2GW8N+hZ9TZqBHjGI1MdJCBVWOzMThOZnoSUAkPjel1MiY33Oh96f9FVXVXVVdVV/UD3TTfT2IifQ5V55yuU79zTp2ml3m93lcgIiKilLEcAP7z9P8kuhxEpHKrqwQVLfcSXYxFjW0Yf2zj5PQviS4AERERxRaDOxERUYqJa3Av31uCW10FeMcG4I1c3Ooqwenq1+J5SiIioiWPM3ciIqIUE9fgPnT2HipaHuJTP4BvxlHRcg/7b7ywcITVcHWV4FZXLsrjVcikOq9Zr+GdQ8lcvnhaynVfKMl+/S9GbNPFIXXuL8vjc9jX8M6hX8G55jk+bBnHUOD11XB15cAB9evJTq8+RIuZ2B9/9OEPH85iMo5nyq4uwF/LVwDfT6Di7E/Ci2/k4lbdKuVri95Ctal0TwI85++h4xvxZalNF+A9TQhbOk632mHXTHyJ/lPiZJLiFdxj5Sd0tCSi0yfqvETJIPbX/+QNHzzlOXBstOMd20/41P8a3qlYBeA5PkyZwG4k1m36Ap/+zQdHqx2OinRkfzOLSUht+hL9f0vBwA4A/lnsb5kFEBww+oa+tbgivDQkOLgLo1z70AQ8r+fAuUZ4NTgSlc+Yfcg89Cs418hGZ9IoLjBKDY5mBaF5MeSDr9weWD3A3hIc2ihmD8wgtM4LAKtwqKsEh8ycL0DKI09Tj+6tltun0ZbGZSnXqmfg2KHtf/f1YH7FzMBUnQ3OqV4F0XlfhqQZiMiwA+vljaR+Buc1VR/tEi4yoXXSrrs8r/S7etfDT+g4vxq36lbB+bt0jNxaAecawDfkS5E2CycObeqfxYXv7Ti00Y7fvTGLDtiF3/net8Rnr9IKsST03qsfczTE8v6ygJJiQ529PAf2W/dQ0TIBDwBHndbzjhcY+e4lgBVw/ErccW9bATsA33fPZQHyOT5suYeKlnv48PsVcLYqj2UvtwPn76FCDCCHNgpvVkXLPfzh2WphZ7/qvJ9++C36fwQA8diKgGx8Ps1yv7EajmjKHdI2YY4Rpp72cjvwt3uoOOWDD4CjrgR7nn2r8X6YrXP4c6op6mdLx+mKl/hDyz1UtAhtby+3az8DM5HXdP2MjmWxPilFt+4WrgcA+MYn9KM1dvxVXDr+76U644pRmw59JV7TFel453Vx1v7VUlgJ0SN/9Cv14xVwthao7nk5cHz3baCfO+oKtPtzLO8vCywpgjt+9OFv3wDAT7j7PQD8DJkaDT357XP4ANhfX4VsAOXixez59gVgWwXHGgDf/xQIfkPfPQewCqVvaJ0rSDre5I1x8yNes+eDuCQZh3JbLYtuPX98jhE/AP9zeMRBzIUbLxDyflioc9hzqsnr55/F/sDzwheYfiYrg5qZvGbrZ+JYEV0rKSKk7pavhxf49NbzwE/C4HZpi7pN/bP476GXwBo7nBsB39CjJXddKkgTp8CKkMbkCpANLIPp9njfXxZYkj9zV/E/h+dHO5xrViALq1G6EcGGfUOYxWNjDm515egf49nL4A3lm3F8+HoJDm20469ddsDKRj+byfMBEN7kHDg2rsJW23PgF1GW22pZoqmnlfNEc05V/RRLlmFYyRvxsWLVhouRXt0t9QEAWA2XbHnTXm5H+Y0l0oZqMWtT2X6GQFBZurJ/8bOQ1yaf/R+AFWF/1/4L7b/BEsv7y0KKc3CXZkSql398iamIjieMspzlq1Ba/VK2JB+k+2xWZ+Q0dPYehiBtzliFPdWvYeiG+RKZ3cwx9N1zHNq4Cs7fbYBvDeAbiq7cVsuiWc9vzR/b7HnCntNE22ZXF+DQxuCzKqPOZSVvtOeN9lpZzDTr/kxIM3s9ZFfbxVnVt9j/zI5bdatwaO9qDC2JDXWhYtGmpKQVyKWA73v2AkBo8JcI6coAH8v7y0KL07J8cKnDuW114NVA545iOU5amneU22GXlrYB4JufhKVvvWezGrKrCwJ/MU+4KPRoLMdYPV/geeOKqMsdemzjY5ivZ3Tnie05X8InboApDduZrOSN7Fgxa8NFSLfuVq5dWzr+q3wFAkuWUn/YaF86exdkYtKmFEpqP/FxB/Aatr4uXHd35Y8119jxX9WvAViN35VrpCvE8v6ycOI2c5+88RAVz3Jxq065vBT1zsHA0jyCS9sAhI+aAK6uHGFHe+AX9JdPJ288gufQr3BL6kXfT4ij5dDlmaGvfNiz0Q5nawmc4i53a+eTVh1WRF3uUGGOoVdP2yrtw0V6HllOK22rJi0zOltL4ATg+f45sFF7xG0lbzTnjaY+SW+NtDQMCDuLHymS9ev+wvT1UL5N+Gyy+lmos1yYAHyaarP3BWhT0vITOk6twOlWeftrtN2Pz+F7Pdj+nvN6MSJ295eFtszr9b7iV74uEPEjFQlbcnsjF7fqfsY/9LBI8Ks0o8c2jL/F1cYL94ebEi05dssvEcIueenZTgL4X8KntyuUiIhSxuLaLb+Y2dKxZyNg/GwnfoIbQZ7jQgLOT0REC2eZ1+t9lZeXl+hyEBERUYxwWZ6IiCjFMLgTERGlmOUA8OXoPxNdDiJSebP4l+ybUWIbxh/bODlx5k5ERJRiGNyJiIhSDIM7ERFRiknJ4D52woaaE8PxO8FoG2oa+0K+D4eIiCgZaAZ3f38tahw2tParvrttrg+tDhtqxH89owZHNsobaVqE/P218Q32RBQ30v1I+NeGMcP0WlybS0gxFzVlG2rfd8dO2LTjAsWN7rVtIk6qgvswehw2dOE9NOSrsw6jZ1cH0OzBgMePga563GzR60hGeSNNI6KlZxhffF0Lt8ePAY8fnTvOoVM2UPf316JBlj7guY7taQks7mI014cuWRu6mwtxs0U1iBptQ+eTelSFxAWKF/1r21ycVAX3MjR5/DjlzAo90+gN3EQ9dktpxQfQkD8Gn0+jVEZ5I01TMzXDn8K1RhsauseAq3XBUedcH1oDoyAhT8+oMLDRHP0rzlWLa7ORlIWIrCtDU18jpK9DWJtRCDx5Ij4SG8YX3UBDezCdIpDWiFOyNraV1CIX43gauAdO4dqZc6jadwB2nUNQrBlc2ybjpOln7v7ZcSB/PdaqXp+eDV2iMcobaZrSMHqOAi3ykeYZrWfgWdjeJ6Rjx3kM6A1cANxs+Qj2S9LsYAzuC9LsYArXjspGSZ734Os+F0FZiCg6w/iiewy5v60QbnhzTzAN4O7R4MCaj99iwPcY48jFWnEFxN//LtzrzqOpOLHFWlIMrm2zcTKKDXVZWLsuFnkjSVOO5m0ltcj1PsZTs8XRUNUVXM4rLK0Pzg7mbuGuVzZKQhmauurjWhYikhltE29wdbi543xwgO57jHEApe3isuUlF3Kv1nHlLCrCLD23+QAKAWHJvjsXnQfLEl2wpcXSta0dJ6MI7lN4+iQWeSNLU2w02NWBcbNFsUpsZCMLVhaipaj4pLhq5oc74yPVprrgDBNpFSjN115NJHPGTjjghgstzixIq5aZXSeFQE8LzOy1rR0nTQd3W3ouoDEjzUwPXeY2yhtpmsJoGxq6c9HpkY1qzFbEKvt642MvZFmIljjF82D7etWzYYrG2AkbOp+44A6sRE7B5wVutkhLww64vcB4t4MfBY43g2vbbJw0P3MvrkYVzuEf0rLAaC/c3nr8uhiQNqUFnncZ5Y00zcDYBROz5cAmHIvS1iET53BR+vjHXB9aW87pZjdVFiIyZ64PrfLd8feuB58Hp1WgNH8Md++JfXO0F25vIUpLtPfVkB7h/q0M7IC0wXog8M+Dhnwgt9mDgT5uYowro2vbZJxcrvxxGD2OOtyUfvQ6UNMtvJmnnGVouuRC6y4bagAAhWi4dF1nucYob6RpMsUn0bnDhk6HEGRzm12owmPddrKV1CK3uwMNjg6hLiW6WQ3qIrQFUI/OSy5cPBpZWYjIgrQKlD5xoMYhvVCIhkvSMnEWtre7cDfQN4GqLj8/CmfVaC/cXgAQ7pEBO85jgM/aE8To2jYXJ5d5vd5X0/OrFrLURGQCv20remzD+GMbJ6eU/POzRERESxmDOxERUYphcCciIkoxy7xe76u8vLxEl4OIiIhiZDkAPJr930SXg4hUNqT/nH0zSmzD+GMbJycuyxMREaUYBnciIqIUw+BORESUYhjciYiIUkzKBPc7h1ci5/BgoouxtI00I2dnL2YSXQ4ioiVOM7jPnC5HTsZK7D49qUyY7sXujJXIEf+1jxgc2ShvpGkydw6vjFEgmcTnO4Pny8lQDRKSqM5ES5F0PxL+NeNOICVM3yXL7hxeGXrv5/1p4Y00K69rxfVv7rpXBfdBtGesxCEcxJFN6qyDaN/yAdDxEBMz85g4uw/9e8vx+bRWyYzyRpqmtPlP85i4cgAZEbSbFufZeeGcM/OY+FNlUtaZaOkZxGcDOzEo9k33njNoUN3ItPsuWTbSjIaJfXAq7v28PyXE1u7gNR249gHseRObxSzhrntVcK/E0Zl5XNyfHXqykS/Rj304IKVtfRdHNt3HpNZ3xxvljTRNJfwyvHp0Ix/xm5RkddYfQQ+iPaMcn59uVtbVYMStnA2JnXW6F7ul/4vt1z4iDPgU+TTLU47P1WXmiJ+iVomjskF8xvoiYOIJH/3E3CQ+/8sZOP/4LhR3fyv3J4qf6V70XijCkd+bH7yafuY+M/UDsCknZKb8aGrSUt5I06y6c7gAx3IuB0Y2gx0/oMFgGb9/b2gAS646D6L9feDDQH2K0P8XeX3u45gLcM/MY2KmG5uN8k/34pArT8w7j4mZIbydqdcuJ5B9Wxo53sexT6QB1SQ+f182op85iEnXGQvlJbJqEJ+57qOgZpuiv2j1XbJm5vTvcSznMo5uVb0ew3syRe7OJx/g4Z6Divt0uOs+ig112cjKiUXeSNMMaIxyMvYfhPPBFfw9pBGy8faVedkgADi2RW+Wn8g6q2YwZTtR8GBCESydZ7sDSzbh85/BkImZtPNsMPBvrtwXnDVNf4UbD2QjelTi6Nl9lspLZErg+eNb6N9zWbayaKXvki5psG/qkUaE92SKwiCGLgDOSun9MXfdRxHcJzE1EYu8kaaFcx/HtsiX5d9Cv4nfyth/EE7dwJfYOiuW0rd8gIdhSqCbP/MALt4+jkd7NTbPmDU1Efn5iayQPX8cXH9C9xGbcd8lbcIK3AbFxMA4f+T3ZIrEzOkT6N90HP++VTtd77o3HdwzsvIAjZnXhqzQ5/NGeSNNs26fbNk5/PJzwPQTPEIRsrOSrM4jzaiUL6XfPo4Co3qEy595ABdn5jExcxkbXAXWn4dn5UR3fqIIZJTtRAF+wJTW8rus75JZk5h8IF/iLcCxB8BDVwFydvYCMb0nk3XCoyjnHw02j+tc9+Zn7lvfVI4ORj7GsQf7UL4VCGxekza4GeWNNM2KzG2o3nQGvSZmpHcOK59X3PnkAzzctBO/yUzuOt/5xNpMWD9/NrJDPhlhQuY6bICsjad7sXvvGd3sVstLBEC4rmQbZ2eGr+Ah8pCVGabvkknCJurgBOghjmwCCjoeCp9GitU9mSIyc/oE+qFsb7PX/XLlj4Noly9fPyhAjkt4oy/ur8TR28exe8tKCI9cinDk9pDOUo5R3kjTrMjG21ceAjuF8gdsOo5B1cfnNlfmoWHLShzTzJNEdd7aDfeelWjIEAJoQcdxOGGwPmaUf6QZOfJAvOcyJrYCsLQZSSq31Mb74L59HL3vR1heIi2Z21A9UYCcQKctwpHb4hKyYd+l2IjVPZmsEzeQdnyiaG/jmBW0zOv1vvrXn6cvTFmJyDR+lWb02IbxxzZOTinz52eJiIhIwOBORESUYhjciYiIUswyr9f7Ki8vL9HlICIiohhZDgBfjv4z0eUgIpU3i3/JvhkltmH8sY2TE5fliYiIUgyDOxERUYphcCciIkoxDO5EREQpJmWC+9gJG2pODCe6GEvbaBtqGvvgT3Q5iIiWOFVwn8K1RhtqHLJ/8oA514dWWVrPqMGRjfJGmiYzdsIWu0Ay2iarcy2uzZlMU4tznYlSmb+/FjUOG1r7p5QJRv3DSv8kHWHu+wi+N2zn2NO97qHX7uHfLyDki2MEVV1+NBWrXx1Gz64OoNmDAWeW0KlaamG/dB3b06zkjTRNeYbCg34MmG09I6NtqGkZR8Mlv3CO0TbU7GrDWs9JFBqlhRwo/nUmSk3D6HHUYbr5PBry63BXnabXP3xW+ieFo33fFwJMw9e1cHuuw7bwxUphRtd9+HbXe78k5pflR2/gJuqx2yl+aWzxATTkj8Hns5g30jSV8Mvw6tFNG8Y0cvlnx4H8WhRJgbS4GlUYx9M547RE1Fl/BjOMHkctrvW3KetqMOPRHBHO9aFVNTrsGR1Gj96IXXH8WlybNVteIrkyNHn8OOXU+CJ2g/5hqX9ShIbxRTfQ0N7IwB5zBtd9DNpdM7jfbAm9mQsdaT3WqvJOz2osJRjkjTTNqrETDrjXnceAx48Bjx/u5nF0aizj29JzAe9jPFX+Nnw+4zS1+Nd5GD1HgZZAfQpx84y8PmNwdwOdHj8GPCdRaJR/rg9d3bliXj8GPPqrBDdbPoL9kpCvc8cY3BekAdUUrh0VZ1QePwY878HXfc5CeYnCM+ofVvonhad138fcE0wDuHvUeAmYYsxEu2u+XzKq4J6F7X1+WUAE3Lu0Z7xAFtauM1tSo7yRphmY68PFq4Vo2FMWeMnmfA9V3uu4r26E4pPo3HEOnYEZ5keYzjeRFlas61yGpr7gKM5WUotc1Y2tqku+HBku/zn8w8RMuqorGPgLS+uBJ0/EAcIt3PXKZlQoQ1NXvaXyElkn6x9R9U8KMrjv+x5jHEBpu5h+yYXcq3VchYs3w3Y3F6cNl+VtzvdQpRsEpvD0idmSGuWNNC2cMbh3yZfl63BTJ2fhwWBDDXjeQ6bXXJqx2NdZsZS+qwPjYUqgmz+tEacuuTAtjvy0NnKEJV58EZ2fKGLK/hF5/yQ9off9XKyVVvbSKlCaH9lqKlllrt314rTmhrqAuSeYRiFK7YANwSUw+TOAzPTQ5wXy5TJ1XqPjWDlHePXojGRjjfiMr1Nro4JBWtzrPNqGhu5cdHquC3Wa60PrrscG9QiTP60RpzyNEJ7XO9CT7keTXf9wIezrkYsozk9kglG/CmHUd8k82X0fWI9cXMfTOaCQG3wXjt1CuyveryDFzH3shHLtfuxCB8alDSvF1crRwWgv3N56/LoYCGxek54JGOWNNM2KtAqU5p/DRcsz0mH0tJxDbvMB7d3wirTE1nnsgrWZsH7+LNgjWcpMW4dMyNp4rg+tLed0s1stLxEAC/3DqO+SEcP7floFSvPHcPee2M9He+H2FqK0JJIJF5lm0O6G75eMYuZeWJqLzl02uKUX8l1wB56blqHpkgutu2yoEXKj4dJ1nY5klDfSNCuysL3PAzQ6UNMte1lRH9FcH1plS8a5zZ7g7kWjtIWuc/FJdO6wodNxTiyLC1VGM2ej/KNtqJEH4h3nMVAMwNIuY6ncUhvXo/OSCxePRlheWsKEjwQFHpt5hWtK6G8G/cNS/yQ9xvf9LGxvd+HuruC9tKrLz4/pxoTRdW/Q7obvV9Ayr9f7anp+1ULUhIgs4FdpRo9tGH9s4+SUMn9+loiIiAQM7kRERCmGwZ2IiCjFLPN6va/y8vISXQ4iIiKKkeUA8Gj2fxNdDiJS2ZD+c/bNKLEN449tnJy4LE9ERJRiGNyJiIhSDIM7ERFRimFwJyIiSjEM7kRERClGM7jPnC5HTsZK7D49qUyY7sXujJXIEf+1j5hMU4v0OFbOERODaJfOM9KMnIxm3DHxWzOny5FzeDAmxyJaKvTuO9Lrwj95v5nE5ztXytJWavQ7ktO9t0PdzuX4fBpgG8eX/rWNqGOhKrgLAegQDuLIJnXWQbRv+QDoeIiJmXlMnN2H/r3SBWCUFqvjWDlHrFTi6Mw8jm4FsLUbEzPd2JwUxyJKJcb3nc8GdmJwZh4TM/Nw7zmDBlVwcZ4V0iZm5jHxp8oFK/XiYtTGQpCplLXzxMwQ3s4MprON48Ho2o4+FqqCuxCALu7PDi3HyJfoxz4ckNK2vosjm+5jcipMWqyOY/Icdw6rR5bCyDM4UlWPRPVm0EI+xYhopBk5O3sxI/4YOtIVfqfSdR+48JZshBz+WERLl8F9B5U4euUAMsSfMtYXARNP2G8sM2rjQXzmAo78OdjOtBAMru0YxELTz9xnpn4ANuWEvPmPpiYN02J1HLPn2Fy5D7jwZTBgT3+FGw+KUF0mNMSdwwU4lnM5MAod7PgBDZEE2eleHHLlwa0Y6Wbj7SvzGOwoAvYI59DuTERk3SA+c91HQc02xX2gf696KZksmX6CRwBuvK+/9M42jjfltR2LWBjFhrpsZOVEkhar4+ikbX0TTpzBkDhLnhm+goebduI3mQCme9F7oQhHfh9cVsrYfxDOB1fw94gu2OB5iChORprFwPIW+vdclg2YhcF0cKAOHNvCvSyWTU3gIYDqP4ttefs4Ci68Ja40so3jSvfaVrMeC6MI7pOYmogkLVbH0UurRPkeoH9wEMAk/j5wH84/ypeb7uPYFvmy/FvoN1tUucwDuHj7OB6JI1qtDSpEFANbu4PBZf0J3UdpGfsPKgb2ZEUesqRn7JnbUL1Je+WVbRxjJq/tSGKh6eCekZUHPJgIWb7ekJVtmBar41g5x+bfH0fBhS9xZ/or3HiwD+Vb5an7ZEvp2ptHTMs8gIsz85iYuYwNroIF2L1PtLRllO1EAX7AlNZK2/QTPEIRsrMWvFiLW1aOfpuqsY3jRn5txyIWmp+5q5a7MfIxjkmB0yhN2sAmPcOJ9DiG51DJ3IbqTWfQ+/4VPNzzZnBXuvS6qVm2sNQhrABA+OjB3jO6ebPVO1AVm36sHIuIAqZ7sVv2/Hdm+AoeirPMO4eVz3/vfPJB8BEcmZe5DdWb7uPGsHhfHPkYx8R9SmzjODK4tmMRC5crfxxEu3yZ+kEBclxAQcdDXNxfiaO3j2P3lpUQlveLcOT2kBg4jdLUIj2OlXNk4zc1RTjmug/nHysVr7995SGwU6hXwKbjGLwSulN0858uw5nxFnIuAMA+uM/uQ8NfxMSRZuTIA/Sey5gQGzejbCcKXB+gMuMDse2yjY9FtKQZ3Xe2oXqiADmBzlmEI7fFj5FW5qFhy0ock5J0+jEBxm2cjbf/fBw3tgTvi86z88JqJts4fjINru0YxMJlXq/31b/+PH0BakJEVvCrNKPHNow/tnFy4p+fJSIiSjEM7kRERCmGwZ2IiCjFLPN6va/y8vISXQ4iIiKKkeUA8OXoPxNdDiJSebP4l+ybUWIbxh/bODlxWZ6IiCjFMLgTERGlGAZ3IiKiFMPgTkRElGIY3FPOFK412lDjaMNYootCREQJsTx8FoqpuT607urAuGZiIRouXcf2tAUuE1GijbahpuVc4MeqLj+aioPJ/v5aNHSPAfkuuPsaYQMADKPHUYebigPVo9NzEoULUuhFRtXGuc0enHIKX+8WaF/JjvMYOFgGtnH8jZ2wofOq9JMsBqhihfz9MkwTcea+0NIaccrjx4DHD3ez0D1ymz0Y8Pgx4GFgpyVorg+td6uFPnDJhVwAN1uklSdhJUoReNR2nBf7jx8DDDraRttQI7Wxx4OGfGC824GeUSGtoXsscB/q3AHgap2QJmEbx4UQ2OvRGWhbVWAX271zh+z9MkqTYXBPSsPocdhQE/hXi2tzyrTW/mFx+V34p35jFUbbZMeyobV/Snh9rg+tOscaO2Hy2ETRSmvEqYNl4v/XQfFtonO3cNdbiIYuIehThIpPijNxAMhC0W+F8Dw9OwX/rHIdcW0GQ/eCmOvDxatAbvOBkMGS/951jAOoKhXes8LSegDAzbvDhmlyDO5JR1oGk0ZzHjTkj8G9Sx7ggfHuOtz9rScwCr/ZokwPmOtD65n1cCtG7L2K5/Hj3R8B7fJZkw0XMzwY8JxHFeSzKKI4G70hLAHvqBZueGmNOOW5ju32xBYr1TydEXp0ZnoWbM73UAVx9tffhy7x8ce/FRsfg6Lkeywsq3/9bnDy1dgHP4LvT4B9fWBwa5Qmx+CebMSbW3A0J42yx3D33lQwX74LLc4sRbrPp3G8tEacCjyjzMLadQAwjqfygUB+LYrSAKRVoDQfAOqx25kFoAy/3qGRnyjG/P21ws2t5RyAenQGZpkmXK0L3hxPDIfPv9SNtgnPeAMBvAxN0kC+W3iOW7VPumeI2MYxF1gx+e3Hwce03g509U8Z/6JJDO5JRr1EBgC2dHMLktOz2heFfIk9uHGDKHnYnNfFZ47nUYVz6DT1OKgMTYFnlcKqVMizYlKa60OrNICSBv2jbahx1OFmvgvuwGqd1P5s44ViK6lFLoDxGQb3lKQVyKWAn5meFZImp5Xu769F51Vh93FgswxR0pJWi/QHq9qkVSmrv7eUDKNnVwfGVbvdx+6eA1CIhvZG2FCGpi7tZ7hs49gymrSF7HsQl/BzM7IM0+QY3JNNcbXw/OvrW/ADAKZw/+sxAPX4tfwZWGD5ZhhfdGukKxTCbgeAYfyDM3dKNqNtwU2emMLTJwBQiNIS48Gs8veka9vE7y1J8r08yt3uQrAIPtaTJhO5GVls43gSn5VL93r5RjlpFi8NsKQBWGlJlmGaHD/nnnTK0HTJheldHWhwdIivaXyuNL8emV87UNMt/FjVpf3xFJvzPVR118G9ywY3gKod9cBV7U/ZEyVE8Um0zNaixiFtFNL/rC+8Yr/YcR4DBw1+jxT8/R+Jn1U/h05H8LPuwt8N+BgNXzvgbrEFPs8e/Nw02zhu0hpxqusxalqC9/rg33eQ0upQI07IqrqkdjdKC1rm9XpfTc+vWkTXOXIAAABUSURBVKDaUPTEEbjij3lQKuJXaUaPbRh/bOPk0fP/7gMAmv6jiMvyREREqYbL8kRERIuYNGOXY3BfdISPpjQluhhERJS0GNyJiIgWsab/KAp57f8DWXDHIgbG+qUAAAAASUVORK5CYII=)\n",
        "\n",
        "**Örnek1:** Rastgele seçilen bir mezunun 100.000 ve üstünde yerleşme sıralaması olması olasılığı nedir?\n",
        "\n",
        "    Toplam 600 mezundan 300 kişinin yerleşme sıralaması 100.000 ve üstü olduğu söylenmiş.\n",
        "\t\t\tP(100.000 ve üstü)= 300/600=0,5"
      ],
      "metadata": {
        "id": "-PMSl66EwDC-"
      }
    },
    {
      "cell_type": "code",
      "source": [
        "onbin_altinda_x=36\n",
        "onbin_altinda_y=24\n",
        "onbin_altinda_toplam=onbin_altinda_x+onbin_altinda_y\n",
        "onbin_ellibin_arasi_x=35\n",
        "onbin_ellibin_arasi_y=40\n",
        "onbin_ellibin_arasi_toplam=onbin_ellibin_arasi_x+onbin_ellibin_arasi_y\n",
        "ellibin_doksandokuzbin_arasinda_x=109\n",
        "ellibin_doksandokuzbin_arasinda_y=56\n",
        "ellibin_doksandokuzbin_arasinda_toplam=ellibin_doksandokuzbin_arasinda_x+ellibin_doksandokuzbin_arasinda_y\n",
        "yuzbin_ve_ustunde_x=135\n",
        "yuzbin_ve_ustunde_y=165\n",
        "yuzbin_ve_ustunde_toplam=yuzbin_ve_ustunde_x+yuzbin_ve_ustunde_y\n",
        "lise_x_toplam=onbin_altinda_x+onbin_ellibin_arasi_x+ellibin_doksandokuzbin_arasinda_x+yuzbin_ve_ustunde_x\n",
        "lise_y_toplam=onbin_altinda_y+onbin_ellibin_arasi_y+ellibin_doksandokuzbin_arasinda_y+yuzbin_ve_ustunde_y\n",
        "toplam=lise_x_toplam+lise_y_toplam\n",
        "sonuc=yuzbin_ve_ustunde_toplam/toplam\n",
        "print(\"Rastgele seçilen bir mezunun 100.000 ve üstünde yerleşme sıralaması olması olasılığı: {:.2%}\".format(sonuc))"
      ],
      "metadata": {
        "colab": {
          "base_uri": "https://localhost:8080/"
        },
        "id": "FKPQP9Guxmyf",
        "outputId": "e5283aea-5f11-4623-ef9b-5c5f4bb27f3a"
      },
      "execution_count": null,
      "outputs": [
        {
          "output_type": "stream",
          "name": "stdout",
          "text": [
            "Rastgele seçilen bir mezunun 100.000 ve üstünde yerleşme sıralaması olması olasılığı: 50.00%\n"
          ]
        }
      ]
    },
    {
      "cell_type": "markdown",
      "source": [
        "**Örnek2:** Bir mezunun Lise Y'den mezun olduğu verildiğinde, rastgele seçilen bir mezunun 100.000 ve üstünde sıralamasının olma olasılığı nedir?\n",
        "\n",
        "    Lise Y'nin 285 mezundan 165 kişi yerleşim sıralaması 100.000 ve üstü olduğu söylenmişti\n",
        "    P(100.000 ve üstü | Lise Y)= 165/285=0,57"
      ],
      "metadata": {
        "id": "SEwP41gcy7jZ"
      }
    },
    {
      "cell_type": "code",
      "source": [
        "onbin_altinda_x=36\n",
        "onbin_altinda_y=24\n",
        "onbin_altinda_toplam=onbin_altinda_x+onbin_altinda_y\n",
        "onbin_ellibin_arasi_x=35\n",
        "onbin_ellibin_arasi_y=40\n",
        "onbin_ellibin_arasi_toplam=onbin_ellibin_arasi_x+onbin_ellibin_arasi_y\n",
        "ellibin_doksandokuzbin_arasinda_x=109\n",
        "ellibin_doksandokuzbin_arasinda_y=56\n",
        "ellibin_doksandokuzbin_arasinda_toplam=ellibin_doksandokuzbin_arasinda_x+ellibin_doksandokuzbin_arasinda_y\n",
        "yuzbin_ve_ustunde_x=135\n",
        "yuzbin_ve_ustunde_y=165\n",
        "yuzbin_ve_ustunde_toplam=yuzbin_ve_ustunde_x+yuzbin_ve_ustunde_y\n",
        "lise_x_toplam=onbin_altinda_x+onbin_ellibin_arasi_x+ellibin_doksandokuzbin_arasinda_x+yuzbin_ve_ustunde_x\n",
        "lise_y_toplam=onbin_altinda_y+onbin_ellibin_arasi_y+ellibin_doksandokuzbin_arasinda_y+yuzbin_ve_ustunde_y\n",
        "toplam=lise_x_toplam+lise_y_toplam\n",
        "sonuc=yuzbin_ve_ustunde_y/lise_y_toplam\n",
        "print(\"Bir mezunun Lise Y'den mezun olduğu verildiğinde, rastgele seçilen bir mezunun 100.000 ve üstünde sıralamasının olma olasılığı: {:.2%}\".format(sonuc))"
      ],
      "metadata": {
        "colab": {
          "base_uri": "https://localhost:8080/"
        },
        "id": "Fo8Wp-bkzgex",
        "outputId": "4a977419-2990-4f77-bfb8-62fe920420d2"
      },
      "execution_count": null,
      "outputs": [
        {
          "output_type": "stream",
          "name": "stdout",
          "text": [
            "Bir mezunun Lise Y'den mezun olduğu verildiğinde, rastgele seçilen bir mezunun 100.000 ve üstünde sıralamasının olma olasılığı: 57.89%\n"
          ]
        }
      ]
    },
    {
      "cell_type": "markdown",
      "source": [
        "**Üni. yerleşim sıralamasının \"100.000 ve üstü\" olması ve \"Lise Y\"'den mezun olma olayları bağımsız mıdır?**\n",
        "\n",
        "    Lise Y mezunlarının 100.000 ve üstü sıralamaya sahip olması diğer lise mezunlarına göre daha olasıydı.\n",
        "\t\t\tÇözüm1=0,5  Çözüm2=0,5789  old. bu olaylar bağımsız değildir."
      ],
      "metadata": {
        "id": "hS5EVpywzyaJ"
      }
    }
  ]
}