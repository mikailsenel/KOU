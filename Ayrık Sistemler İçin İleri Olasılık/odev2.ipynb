{
  "nbformat": 4,
  "nbformat_minor": 0,
  "metadata": {
    "colab": {
      "provenance": [],
      "authorship_tag": "ABX9TyPL4stw28dEQ+Slq3fVu1V0",
      "include_colab_link": true
    },
    "kernelspec": {
      "name": "python3",
      "display_name": "Python 3"
    },
    "language_info": {
      "name": "python"
    }
  },
  "cells": [
    {
      "cell_type": "markdown",
      "metadata": {
        "id": "view-in-github",
        "colab_type": "text"
      },
      "source": [
        "<a href=\"https://colab.research.google.com/github/mikailsenel/KOU-Kocaeli-niversitesi-/blob/main/Ayr%C4%B1k%20Sistemler%20%C4%B0%C3%A7in%20%C4%B0leri%20Olas%C4%B1l%C4%B1k/odev2.ipynb\" target=\"_parent\"><img src=\"https://colab.research.google.com/assets/colab-badge.svg\" alt=\"Open In Colab\"/></a>"
      ]
    },
    {
      "cell_type": "markdown",
      "source": [
        "***Örnek1:*** 9 kişilik bir ekipte başkan, başkan yardımcısı ve sekreterseçilmek isteniyor. Görevlilerin rastgele seçildiği düşünülerek başkanın Osman, yardımcının Orhan ve sekreterin Ayhan seçilme olasılığı nedir?\n",
        "\n",
        "    Başkan    Yardımcı     Sekreter\n",
        "     9      *   8       *    7       =   504\n",
        "\n",
        "P(Başkan=Osman B.y=Orhan Sek.=Ayhan)=1/(tüm olası sonuçlar) = 1/504"
      ],
      "metadata": {
        "id": "fGxrk2UsOjM2"
      }
    },
    {
      "cell_type": "code",
      "source": [
        "ekip_sayisi=9\n",
        "osmanin_baskan_olma_olasılığı=ekip_sayisi\n",
        "orhanin_yardımcı_olma_olasiligi=ekip_sayisi-1\n",
        "ayhanin_sekreter_olma_olasiligi=ekip_sayisi-2\n",
        "sonuc=1/(osmanin_baskan_olma_olasılığı*orhanin_yardımcı_olma_olasiligi*ayhanin_sekreter_olma_olasiligi )\n",
        "print(\"Osman'ın bşk, Orhan'ın bşky. Ayhan'ın sek. olma olasılıkları: {:.2%}\".format(sonuc))"
      ],
      "metadata": {
        "id": "V4sdICJUOsrm",
        "outputId": "34224d17-2c63-4c31-e901-8817def5db2c",
        "colab": {
          "base_uri": "https://localhost:8080/"
        }
      },
      "execution_count": 1,
      "outputs": [
        {
          "output_type": "stream",
          "name": "stdout",
          "text": [
            "Osman'ın bşk, Orhan'ın bşky. Ayhan'ın sek. olma olasılıkları: 0.20%\n"
          ]
        }
      ]
    },
    {
      "cell_type": "markdown",
      "source": [
        "***Örnek2:*** Bir iskambil oyunu, 36 kart ile oynanıyor. 4 cins (karo, kupa, sinek, maça) ve her cinsten de 1'den 9'a kadar olan kartlar kullanılıyor. Bir elde, oyuncuya istediği şekilde dizebileceği 9 kart dağıtılıyor. Dağıtılan bir elde, oyuncunun elinde tüm asların bulunmasının olasılığı nedir?\n",
        "\n",
        "Olay= Bütün asların elimde bulunma olasılığı\n",
        "\n",
        "P(elimdeki 9 karttan 4'ü as) = (Olayın gerçekleştiği durum)/(Bana dağıtılacak tüm ellerin sayısı)\n",
        "\n",
        "Bana dağıılacak tüm ellerin sayısı=  (36*35*34*33*32*31*30*29*28) / 9! = (36!)/[(36-9)!*9!]\n",
        "\n",
        "Sadece 4 kart dağıtılsaydı bütün hepsinin as olma ihtimali 1 tane olurdu. Ama 9 kart dağıtıldığına 4 ü as ise diğer 5 i için ;\n",
        "4 as olan ellerin sayısı= (32*31*30*29*28)/(5*4*3*2*1)\n",
        "\n",
        "Sonuç=[(32*31*30*29*28)/(5*4*3*2*1)] * [((36-9)!*9!)/36!] = (9*8*7*6)/(36*35*33) =2/935 "
      ],
      "metadata": {
        "id": "HB4Lp6UDOvlM"
      }
    },
    {
      "cell_type": "code",
      "source": [
        "toplam_kart_sayisi=36\n",
        "bana_dagitilacak_tum_ellerin_sayisi=(36*35*34*33*32*31*30*29*28) / (9*8*7*6*5*4*3*2*1)\n",
        "dort_as_olan_ellerin_sayisi=(32*31*30*29*28)/(5*4*3*2*1)\n",
        "sonuc=dort_as_olan_ellerin_sayisi/bana_dagitilacak_tum_ellerin_sayisi\n",
        "print(\"Dağıtılan bir elde, oyuncunun elinde tüm asların bulunmasının olasılığı: {:.2%}\".format(sonuc))"
      ],
      "metadata": {
        "id": "lhRD767-Oz_Q",
        "outputId": "99d7129a-b9a2-4e85-91d4-7c86abd9debc",
        "colab": {
          "base_uri": "https://localhost:8080/"
        }
      },
      "execution_count": 2,
      "outputs": [
        {
          "output_type": "stream",
          "name": "stdout",
          "text": [
            "Dağıtılan bir elde, oyuncunun elinde tüm asların bulunmasının olasılığı: 0.21%\n"
          ]
        }
      ]
    }
  ]
}