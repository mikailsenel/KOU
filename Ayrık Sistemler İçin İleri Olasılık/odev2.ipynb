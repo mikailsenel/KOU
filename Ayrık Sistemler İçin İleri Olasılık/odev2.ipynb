{
 "cells": [
  {
   "cell_type": "markdown",
   "metadata": {},
   "source": [
    "Örnek1: 9 kişilik bir ekipte başkan, başkan yardımcısı ve sekreterseçilmek isteniyor. Görevlilerin rastgele seçildiği düşünülerek başkanın Osman, yardımcının Orhan ve sekreterin Ayhan seçilme olasılığı nedir?\n",
    "\n",
    "    Başkan    Yardımcı     Sekreter\n",
    "     9      *   8       *    7       =   504\n",
    "\n",
    "P(Başkan=Osman B.y=Orhan Sek.=Ayhan)=1/(tüm olası sonuçlar) = 1/504"
   ]
  },
  {
   "cell_type": "code",
   "execution_count": 1,
   "metadata": {},
   "outputs": [
    {
     "name": "stdout",
     "output_type": "stream",
     "text": [
      "Osman'ın bşk, Orhan'ın bşky. Ayhan'ın sek. olma olasılıkları: 0.20%\n"
     ]
    }
   ],
   "source": [
    "ekip_sayisi=9\n",
    "osmanin_baskan_olma_olasılığı=ekip_sayisi\n",
    "orhanin_yardımcı_olma_olasiligi=ekip_sayisi-1\n",
    "ayhanin_sekreter_olma_olasiligi=ekip_sayisi-2\n",
    "sonuc=1/(osmanin_baskan_olma_olasılığı*orhanin_yardımcı_olma_olasiligi*ayhanin_sekreter_olma_olasiligi )\n",
    "print(\"Osman'ın bşk, Orhan'ın bşky. Ayhan'ın sek. olma olasılıkları: {:.2%}\".format(sonuc))"
   ]
  },
  {
   "cell_type": "markdown",
   "metadata": {},
   "source": [
    "Örnek2: Bir iskambil oyunu, 36 kart ile oynanıyor. 4 cins (karo, kupa, sinek, maça) ve her cinsten de 1'den 9'a kadar olan kartlar kullanılıyor. Bir elde, oyuncuya istediği şekilde dizebileceği 9 kart dağıtılıyor. Dağıtılan bir elde, oyuncunun elinde tüm asların bulunmasının olasılığı nedir?\n",
    "\n",
    "Olay= Bütün asların elimde bulunma olasılığı\n",
    "\n",
    "P(elimdeki 9 karttan 4'ü as) = (Olayın gerçekleştiği durum)/(Bana dağıtılacak tüm ellerin sayısı)\n",
    "\n",
    "Bana dağıılacak tüm ellerin sayısı=  (36*35*34*33*32*31*30*29*28) / 9! = (36!)/[(36-9)!*9!]\n",
    "\n",
    "Sadece 4 kart dağıtılsaydı bütün hepsinin as olma ihtimali 1 tane olurdu. Ama 9 kart dağıtıldığına 4 ü as ise diğer 5 i için ;\n",
    "4 as olan ellerin sayısı= (32*31*30*29*28)/(5*4*3*2*1)\n",
    "\n",
    "Sonuç=[(32*31*30*29*28)/(5*4*3*2*1)] * [((36-9)!*9!)/36!] = (9*8*7*6)/(36*35*33) =2/935 "
   ]
  },
  {
   "cell_type": "code",
   "execution_count": 2,
   "metadata": {},
   "outputs": [
    {
     "name": "stdout",
     "output_type": "stream",
     "text": [
      "Dağıtılan bir elde, oyuncunun elinde tüm asların bulunmasının olasılığı: 0.21%\n"
     ]
    }
   ],
   "source": [
    "toplam_kart_sayisi=36\n",
    "bana_dagitilacak_tum_ellerin_sayisi=(36*35*34*33*32*31*30*29*28) / (9*8*7*6*5*4*3*2*1)\n",
    "dort_as_olan_ellerin_sayisi=(32*31*30*29*28)/(5*4*3*2*1)\n",
    "sonuc=dort_as_olan_ellerin_sayisi/bana_dagitilacak_tum_ellerin_sayisi\n",
    "print(\"Dağıtılan bir elde, oyuncunun elinde tüm asların bulunmasının olasılığı: {:.2%}\".format(sonuc))"
   ]
  }
 ],
 "metadata": {
  "kernelspec": {
   "display_name": "Python 3.11.0 64-bit",
   "language": "python",
   "name": "python3"
  },
  "language_info": {
   "codemirror_mode": {
    "name": "ipython",
    "version": 3
   },
   "file_extension": ".py",
   "mimetype": "text/x-python",
   "name": "python",
   "nbconvert_exporter": "python",
   "pygments_lexer": "ipython3",
   "version": "3.11.0"
  },
  "orig_nbformat": 4,
  "vscode": {
   "interpreter": {
    "hash": "c261aea317cc0286b3b3261fbba9abdec21eaa57589985bb7a274bf54d6cc0a7"
   }
  }
 },
 "nbformat": 4,
 "nbformat_minor": 2
}
