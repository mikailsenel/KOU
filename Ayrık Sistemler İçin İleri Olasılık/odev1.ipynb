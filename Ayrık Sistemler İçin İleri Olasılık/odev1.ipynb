{
  "nbformat": 4,
  "nbformat_minor": 0,
  "metadata": {
    "colab": {
      "provenance": [],
      "authorship_tag": "ABX9TyN/B4Bf6nrt1PdIhGNdWAbC",
      "include_colab_link": true
    },
    "kernelspec": {
      "name": "python3",
      "display_name": "Python 3"
    },
    "language_info": {
      "name": "python"
    }
  },
  "cells": [
    {
      "cell_type": "markdown",
      "metadata": {
        "id": "view-in-github",
        "colab_type": "text"
      },
      "source": [
        "<a href=\"https://colab.research.google.com/github/mikailsenel/Kocaeli-University/blob/main/Ayr%C4%B1k%20Sistemler%20%C4%B0%C3%A7in%20%C4%B0leri%20Olas%C4%B1l%C4%B1k/odev1.ipynb\" target=\"_parent\"><img src=\"https://colab.research.google.com/assets/colab-badge.svg\" alt=\"Open In Colab\"/></a>"
      ]
    },
    {
      "cell_type": "markdown",
      "source": [
        "**Permütasyon Örnek**\n",
        "\n",
        "Bir oyunda, oyunculardan biri farklı renkleri kullanarak bir kod yaratıyor. Bu oyuncuya kod yapıcı deniyor. Diğeroyuncu ise kod bulucu olarak, diğer oyuncunun hazırladığı kodu tahmin etmeye çalışıyor. Kod yapıcı hem renklerin doğru olup olmadığı hem de renklerin doğru pozisyonda olup olmadığı hakkında ipucu veriyor.\n",
        "\n",
        "Olası renkler: Mavi, Sarı, Beyaz, Kırmızı, Turuncu, Yeşil\n",
        "\n",
        "Verilen renkleri sadece bir kez kullanarak kaç tane birbirinden farklı 4 renkli bir kod yaratılabilir?\n",
        "\n",
        "Aşağıdaki iki kod birbirinden farklıdır.\n",
        "\n",
        "M K S Y\n",
        "\n",
        "Y K S M \n",
        "\n",
        "6   5   4   3\n",
        "-   -   -   -\n",
        "\n",
        "6*5*4*3*=360"
      ],
      "metadata": {
        "id": "yY_EDQElZ5z3"
      }
    },
    {
      "cell_type": "code",
      "source": [
        "renk_sayisi=6\n",
        "sonuc=renk_sayisi*(renk_sayisi-1)*(renk_sayisi-2)*(renk_sayisi-3)\n",
        "print(\"Oluşturulabilecek birbirinden farklı 4 renkli top sayısı: {:}\".format(sonuc))"
      ],
      "metadata": {
        "colab": {
          "base_uri": "https://localhost:8080/"
        },
        "id": "Ihvb5jlmaBfI",
        "outputId": "b6050a48-d594-4ffc-a816-96e21dd9ab06"
      },
      "execution_count": 1,
      "outputs": [
        {
          "output_type": "stream",
          "name": "stdout",
          "text": [
            "Oluşturulabilecek birbirinden farklı 4 renkli top sayısı: 360\n"
          ]
        }
      ]
    },
    {
      "cell_type": "markdown",
      "source": [
        "**Kombinasyon Örneği**\n",
        "\n",
        "36 karttan oluşan bir kağıt oyunu oynanıyor. İçinde 4 kupa, 4 maça, 4 sinek ve 4 tane karo var. Her takımda 1'den 9'a kadar numaralandırılmış kartlar var. Bir el 9 karttan oluşuyor ve oyuncu tarafından seçiliyor. Kaç tane olası el yaratılabilir?\n",
        "\n",
        "\n",
        "36 * 35 * 34 * 33 * 32 * 31 * 30 * 29 * 28\n",
        "\n",
        "36! / [(36-9)!*9!]=94.143.280"
      ],
      "metadata": {
        "id": "fQ_BHr_waLuP"
      }
    },
    {
      "cell_type": "code",
      "source": [
        "import math\n",
        "toplam_kart_sayisi=36\n",
        "eldeki_kart_sayisi=9\n",
        "sonuc=math.factorial(toplam_kart_sayisi)/(math.factorial(toplam_kart_sayisi-eldeki_kart_sayisi)*math.factorial(eldeki_kart_sayisi))\n",
        "print(\"Olası oluşturulabilecek el sayısı: {:}\".format(sonuc))"
      ],
      "metadata": {
        "colab": {
          "base_uri": "https://localhost:8080/"
        },
        "id": "MIamr1sMaVEA",
        "outputId": "b5611398-6b77-4efa-cb71-424cf4c9275f"
      },
      "execution_count": 2,
      "outputs": [
        {
          "output_type": "stream",
          "name": "stdout",
          "text": [
            "Olası oluşturulabilecek el sayısı: 94143280.0\n"
          ]
        }
      ]
    }
  ]
}